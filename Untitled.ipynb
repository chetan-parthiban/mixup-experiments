{
 "cells": [
  {
   "cell_type": "code",
   "execution_count": 1,
   "metadata": {},
   "outputs": [],
   "source": [
    "from tqdm import tqdm, trange\n",
    "import os\n",
    "\n",
    "import numpy as np\n",
    "import pandas as pd\n",
    "import matplotlib.pyplot as plt\n",
    "\n",
    "import torch\n",
    "import torch.nn as nn\n",
    "import torch.nn.functional as F\n",
    "import torch.optim as optim\n",
    "from torch.utils.data import DataLoader\n",
    "\n",
    "\n",
    "import torchvision\n",
    "from torchvision.datasets import ImageFolder\n",
    "import torchvision.transforms as transforms\n",
    "import time\n",
    "from datetime import timedelta\n",
    "\n",
    "from skimage.color import lab2rgb, rgb2lab, rgb2gray\n",
    "from skimage import io\n",
    "\n",
    "def print_update(epoch, iteration, loss, max_iters, start_time):\n",
    "    t = time.perf_counter() - start_time\n",
    "    dt = t / (iteration + 1)\n",
    "    iters_left = max_iters - (iteration + 1)\n",
    "    minutesr, secondsr = divmod(iters_left * dt, 60)\n",
    "    minutess, secondss = divmod(t, 60)\n",
    "    times = [int(minutesr), int(secondsr), int(minutess), int(secondss)]\n",
    "    for i in range(4):\n",
    "        if times[i] < 10:\n",
    "            times[i] = f'0{times[i]}'\n",
    "    print('Epoch ', epoch, ': Iteration ', iteration+1, '/', max_iters, ' | Loss: ', loss, '  |  Time remaining: ', times[0], ':', times[1], '  |  Time spent: ', times[2], ':', times[3], end = '\\r', sep = '')"
   ]
  },
  {
   "cell_type": "code",
   "execution_count": null,
   "metadata": {},
   "outputs": [],
   "source": []
  }
 ],
 "metadata": {
  "kernelspec": {
   "display_name": "conda_pytorch_p36",
   "language": "python",
   "name": "conda_pytorch_p36"
  },
  "language_info": {
   "codemirror_mode": {
    "name": "ipython",
    "version": 3
   },
   "file_extension": ".py",
   "mimetype": "text/x-python",
   "name": "python",
   "nbconvert_exporter": "python",
   "pygments_lexer": "ipython3",
   "version": "3.6.5"
  }
 },
 "nbformat": 4,
 "nbformat_minor": 4
}
