{
 "cells": [
  {
   "cell_type": "code",
   "execution_count": 1,
   "metadata": {},
   "outputs": [],
   "source": [
    "import torch\n",
    "import torch.nn as nn\n",
    "import torch.nn.functional as F\n",
    "import torch.optim as optim\n",
    "from torch.utils.data import DataLoader\n",
    "\n",
    "import torchvision\n",
    "from torchvision.datasets import ImageFolder\n",
    "from torchvision import transforms\n",
    "\n",
    "from tqdm import tqdm, trange\n",
    "import numpy as np\n",
    "import pandas as pd\n",
    "import matplotlib.pyplot as plt"
   ]
  },
  {
   "cell_type": "code",
   "execution_count": 2,
   "metadata": {},
   "outputs": [],
   "source": [
    "from Utilities import *\n",
    "from TrainingLoops import *"
   ]
  },
  {
   "cell_type": "code",
   "execution_count": 3,
   "metadata": {},
   "outputs": [],
   "source": [
    "trainer = ModelManager(train_dir = 'data/imagenette2-320/train', val_dir = 'data/imagenette2-320/val', n_classes = 10, epochs = 5, img_size = 224)"
   ]
  },
  {
   "cell_type": "code",
   "execution_count": 4,
   "metadata": {},
   "outputs": [
    {
     "name": "stdout",
     "output_type": "stream",
     "text": [
      "Beginning Run 0/10\n",
      "Epoch 0 | Validation Loss: 1.426217529081529 | Validation Accuracy: 0.5304346537001898\n",
      "Epoch 1 | Validation Loss: 1.0917993668586976 | Validation Accuracy: 0.6364237428842505\n",
      "Epoch 2 | Validation Loss: 0.863400315084765 | Validation Accuracy: 0.7098997865275143\n",
      "Epoch 3 | Validation Loss: 0.7220162691608552 | Validation Accuracy: 0.7712731261859582\n",
      "Epoch 4 | Validation Loss: 0.668590062087582 | Validation Accuracy: 0.78312084914611\n",
      "Beginning Run 1/10\n",
      "Epoch 0 | Validation Loss: 1.3880791856396584 | Validation Accuracy: 0.5267878320683113\n",
      "Epoch 1 | Validation Loss: 1.0731484755392997 | Validation Accuracy: 0.6494070208728653\n",
      "Epoch 2 | Validation Loss: 0.9017249365006724 | Validation Accuracy: 0.7083817599620493\n",
      "Epoch 3 | Validation Loss: 0.7107965177105319 | Validation Accuracy: 0.76104720113852\n",
      "Epoch 4 | Validation Loss: 0.6468361270043158 | Validation Accuracy: 0.7924365512333966\n",
      "Beginning Run 2/10\n",
      "Epoch 0 | Validation Loss: 1.4170195248819166 | Validation Accuracy: 0.5400112666034156\n",
      "Epoch 1 | Validation Loss: 1.0852588895828492 | Validation Accuracy: 0.6477615037950665\n",
      "Epoch 2 | Validation Loss: 0.8772774569449886 | Validation Accuracy: 0.7170777988614802\n",
      "Epoch 3 | Validation Loss: 0.7273102748778558 | Validation Accuracy: 0.7658414373814042\n",
      "Epoch 4 | Validation Loss: 0.6518532566485866 | Validation Accuracy: 0.7866342504743833\n",
      "Beginning Run 3/10\n",
      "Epoch 0 | Validation Loss: 1.3733458711254982 | Validation Accuracy: 0.5507323292220114\n",
      "Epoch 1 | Validation Loss: 1.1087565172103144 | Validation Accuracy: 0.6376749288425048\n",
      "Epoch 2 | Validation Loss: 0.893704443208633 | Validation Accuracy: 0.7078747628083492\n",
      "Epoch 3 | Validation Loss: 0.748337120779099 | Validation Accuracy: 0.7572758538899431\n",
      "Epoch 4 | Validation Loss: 0.6588149263012794 | Validation Accuracy: 0.787781665085389\n",
      "Beginning Run 4/10\n",
      "Epoch 0 | Validation Loss: 1.3689482788885794 | Validation Accuracy: 0.5572788187855788\n",
      "Epoch 1 | Validation Loss: 1.0806703125276873 | Validation Accuracy: 0.6529233870967742\n",
      "Epoch 2 | Validation Loss: 0.9033652793976569 | Validation Accuracy: 0.7049662001897533\n",
      "Epoch 3 | Validation Loss: 0.7197200261777447 | Validation Accuracy: 0.7673624288425047\n",
      "Epoch 4 | Validation Loss: 0.6556176581690388 | Validation Accuracy: 0.7868833017077799\n",
      "Beginning Run 5/10\n",
      "Epoch 0 | Validation Loss: 1.3522986673539685 | Validation Accuracy: 0.5604334677419355\n",
      "Epoch 1 | Validation Loss: 1.0602713919455005 | Validation Accuracy: 0.6563359819734346\n",
      "Epoch 2 | Validation Loss: 0.8769010555359625 | Validation Accuracy: 0.7139261148007591\n",
      "Epoch 3 | Validation Loss: 0.7272658290401581 | Validation Accuracy: 0.7668554316888045\n",
      "Epoch 4 | Validation Loss: 0.6743704244013755 | Validation Accuracy: 0.7780627371916509\n",
      "Beginning Run 6/10\n",
      "Epoch 0 | Validation Loss: 1.3703633931375319 | Validation Accuracy: 0.5490868121442126\n",
      "Epoch 1 | Validation Loss: 1.115605310086281 | Validation Accuracy: 0.6318844876660342\n",
      "Epoch 2 | Validation Loss: 0.8815033455048839 | Validation Accuracy: 0.7172023244781784\n",
      "Epoch 3 | Validation Loss: 0.7146000189165915 | Validation Accuracy: 0.7735264468690702\n",
      "Epoch 4 | Validation Loss: 0.6677486550423407 | Validation Accuracy: 0.7865156546489563\n",
      "Beginning Run 7/10\n",
      "Epoch 0 | Validation Loss: 1.341650878229449 | Validation Accuracy: 0.567614444971537\n",
      "Epoch 1 | Validation Loss: 1.1031948039608617 | Validation Accuracy: 0.6383123814041746\n",
      "Epoch 2 | Validation Loss: 0.9214014487881814 | Validation Accuracy: 0.6970410341555977\n",
      "Epoch 3 | Validation Loss: 0.7656965121146171 | Validation Accuracy: 0.7543732210626186\n",
      "Epoch 4 | Validation Loss: 0.679397052334201 | Validation Accuracy: 0.7790856261859582\n",
      "Beginning Run 8/10\n",
      "Epoch 0 | Validation Loss: 1.3832600424366612 | Validation Accuracy: 0.5494603889943074\n",
      "Epoch 1 | Validation Loss: 1.0768797359158915 | Validation Accuracy: 0.650655241935484\n",
      "Epoch 2 | Validation Loss: 0.8939560113414642 | Validation Accuracy: 0.7149430740037951\n",
      "Epoch 3 | Validation Loss: 0.719154380982922 | Validation Accuracy: 0.7669769924098672\n",
      "Epoch 4 | Validation Loss: 0.6766146315682319 | Validation Accuracy: 0.7826108870967742\n",
      "Beginning Run 9/10\n",
      "Epoch 0 | Validation Loss: 1.3729752802079724 | Validation Accuracy: 0.5473078747628083\n",
      "Epoch 1 | Validation Loss: 1.1033059358596802 | Validation Accuracy: 0.6434831593927894\n",
      "Epoch 2 | Validation Loss: 0.825561931056361 | Validation Accuracy: 0.7432815464895636\n",
      "Epoch 3 | Validation Loss: 0.7093021619704462 | Validation Accuracy: 0.7637126423149906\n",
      "Epoch 4 | Validation Loss: 0.6694525999407615 | Validation Accuracy: 0.7821068548387097\n"
     ]
    }
   ],
   "source": [
    "unaugmented_results = runNTimes(10, trainer.train_deep_unaugmented)"
   ]
  },
  {
   "cell_type": "code",
   "execution_count": 5,
   "metadata": {},
   "outputs": [
    {
     "name": "stdout",
     "output_type": "stream",
     "text": [
      "Beginning Run 0/10\n",
      "Epoch 0 | Validation Loss: 1.539251773588119 | Validation Accuracy: 0.49691057874762806\n",
      "Epoch 1 | Validation Loss: 1.2456109485318583 | Validation Accuracy: 0.5891484819734345\n",
      "Epoch 2 | Validation Loss: 0.9732002942792831 | Validation Accuracy: 0.686210270398482\n",
      "Epoch 3 | Validation Loss: 0.8279671976643224 | Validation Accuracy: 0.7270339184060721\n",
      "Epoch 4 | Validation Loss: 0.7522165063888796 | Validation Accuracy: 0.7590370018975332\n",
      "Beginning Run 1/10\n",
      "Epoch 0 | Validation Loss: 1.5649433712805472 | Validation Accuracy: 0.4780034392789374\n",
      "Epoch 1 | Validation Loss: 1.181566515276509 | Validation Accuracy: 0.6110857447817837\n",
      "Epoch 2 | Validation Loss: 0.9794310619754176 | Validation Accuracy: 0.6816680502846301\n",
      "Epoch 3 | Validation Loss: 0.7963482006903617 | Validation Accuracy: 0.7465696157495256\n",
      "Epoch 4 | Validation Loss: 0.7360830287779531 | Validation Accuracy: 0.7601784867172676\n",
      "Beginning Run 2/10\n",
      "Epoch 0 | Validation Loss: 1.5537424202888244 | Validation Accuracy: 0.48266129032258065\n",
      "Epoch 1 | Validation Loss: 1.2747274021948538 | Validation Accuracy: 0.587900260910816\n",
      "Epoch 2 | Validation Loss: 1.057700628234494 | Validation Accuracy: 0.6557074240986718\n",
      "Epoch 3 | Validation Loss: 0.8185769357988911 | Validation Accuracy: 0.7359641840607211\n",
      "Epoch 4 | Validation Loss: 0.7708860078165608 | Validation Accuracy: 0.7514765180265655\n",
      "Beginning Run 3/10\n",
      "Epoch 0 | Validation Loss: 1.5258950725678475 | Validation Accuracy: 0.49301174098671724\n",
      "Epoch 1 | Validation Loss: 1.2216671359154485 | Validation Accuracy: 0.5979898007590133\n",
      "Epoch 2 | Validation Loss: 1.021044006270747 | Validation Accuracy: 0.6662921015180266\n",
      "Epoch 3 | Validation Loss: 0.8102006604594569 | Validation Accuracy: 0.7384962049335864\n",
      "Epoch 4 | Validation Loss: 0.7571942710107372 | Validation Accuracy: 0.7556451612903226\n",
      "Beginning Run 4/10\n",
      "Epoch 0 | Validation Loss: 1.491439938545227 | Validation Accuracy: 0.49956712523719166\n",
      "Epoch 1 | Validation Loss: 1.2209829515026462 | Validation Accuracy: 0.6055443548387097\n",
      "Epoch 2 | Validation Loss: 1.0070976076587554 | Validation Accuracy: 0.6700723434535105\n",
      "Epoch 3 | Validation Loss: 0.8338050419284452 | Validation Accuracy: 0.7242647058823529\n",
      "Epoch 4 | Validation Loss: 0.7718888213557582 | Validation Accuracy: 0.7479482922201138\n",
      "Beginning Run 5/10\n",
      "Epoch 0 | Validation Loss: 1.50241433805035 | Validation Accuracy: 0.5013223434535105\n",
      "Epoch 1 | Validation Loss: 1.2369482190378251 | Validation Accuracy: 0.6015180265654649\n",
      "Epoch 2 | Validation Loss: 0.993000530427502 | Validation Accuracy: 0.6798950426944972\n",
      "Epoch 3 | Validation Loss: 0.8284178799198519 | Validation Accuracy: 0.7321928368121442\n",
      "Epoch 4 | Validation Loss: 0.7647972049251679 | Validation Accuracy: 0.7477051707779886\n",
      "Beginning Run 6/10\n",
      "Epoch 0 | Validation Loss: 1.5258185517403386 | Validation Accuracy: 0.49287832068311194\n",
      "Epoch 1 | Validation Loss: 1.1276660849971156 | Validation Accuracy: 0.6425847960151804\n",
      "Epoch 2 | Validation Loss: 0.9878910414634212 | Validation Accuracy: 0.6749881404174574\n",
      "Epoch 3 | Validation Loss: 0.7908861348705907 | Validation Accuracy: 0.7425373576850095\n",
      "Epoch 4 | Validation Loss: 0.7554824890628937 | Validation Accuracy: 0.7560128083491462\n",
      "Beginning Run 7/10\n",
      "Epoch 0 | Validation Loss: 1.4607940912246704 | Validation Accuracy: 0.5282851043643263\n",
      "Epoch 1 | Validation Loss: 1.2247317068038448 | Validation Accuracy: 0.6117172675521823\n",
      "Epoch 2 | Validation Loss: 0.9410173143109968 | Validation Accuracy: 0.689599146110057\n",
      "Epoch 3 | Validation Loss: 0.8179046453968171 | Validation Accuracy: 0.7301589184060722\n",
      "Epoch 4 | Validation Loss: 0.7327864823802825 | Validation Accuracy: 0.7628202087286527\n",
      "Beginning Run 8/10\n",
      "Epoch 0 | Validation Loss: 1.5252560877030896 | Validation Accuracy: 0.5003202087286528\n",
      "Epoch 1 | Validation Loss: 1.2628850552343553 | Validation Accuracy: 0.587900260910816\n",
      "Epoch 2 | Validation Loss: 1.0018508665023311 | Validation Accuracy: 0.6677982685009488\n",
      "Epoch 3 | Validation Loss: 0.8207577332373588 | Validation Accuracy: 0.7388579222011386\n",
      "Epoch 4 | Validation Loss: 0.7542889944968685 | Validation Accuracy: 0.7566472960151803\n",
      "Beginning Run 9/10\n",
      "Epoch 0 | Validation Loss: 1.4824512697035266 | Validation Accuracy: 0.5064901565464895\n",
      "Epoch 1 | Validation Loss: 1.167108203134229 | Validation Accuracy: 0.6219283681214421\n",
      "Epoch 2 | Validation Loss: 1.074236285301947 | Validation Accuracy: 0.65948470113852\n",
      "Epoch 3 | Validation Loss: 0.8032826435181403 | Validation Accuracy: 0.7459440227703985\n",
      "Epoch 4 | Validation Loss: 0.7439021487389842 | Validation Accuracy: 0.7616905834914611\n"
     ]
    }
   ],
   "source": [
    "augmented_results = runNTimes(10, trainer.train_deep_augmented)"
   ]
  },
  {
   "cell_type": "code",
   "execution_count": null,
   "metadata": {},
   "outputs": [
    {
     "name": "stdout",
     "output_type": "stream",
     "text": [
      "Beginning Run 0/10\n",
      "Epoch 0 | Validation Loss: 1.501064242855195 | Validation Accuracy: 0.5097722960151803\n",
      "Epoch 1 | Validation Loss: 1.2396467962572653 | Validation Accuracy: 0.6108426233396584\n",
      "Epoch 2 | Validation Loss: 1.03305781848969 | Validation Accuracy: 0.6826672201138521\n",
      "Epoch 3 | Validation Loss: 0.9338578754855741 | Validation Accuracy: 0.736738021821632\n",
      "Epoch 4 | Validation Loss: 0.8189592611405158 | Validation Accuracy: 0.7683675284629982\n",
      "Beginning Run 1/10\n",
      "Epoch 0 | Validation Loss: 1.4588348365599109 | Validation Accuracy: 0.5386177656546489\n",
      "Epoch 1 | Validation Loss: 1.1949160829667123 | Validation Accuracy: 0.6346537001897533\n",
      "Epoch 2 | Validation Loss: 1.00409992471818 | Validation Accuracy: 0.7090221774193549\n",
      "Epoch 3 | Validation Loss: 0.8675511440923137 | Validation Accuracy: 0.7509576612903226\n",
      "Epoch 4 | Validation Loss: 0.7987272085682038 | Validation Accuracy: 0.7775675996204934\n",
      "Beginning Run 2/10\n",
      "Epoch 0 | Validation Loss: 1.411349223506066 | Validation Accuracy: 0.5447966081593928\n",
      "Epoch 1 | Validation Loss: 1.2348028382947367 | Validation Accuracy: 0.6359167457305503\n"
     ]
    }
   ],
   "source": [
    "mixup_results = runNTimes(10, trainer.train_mixup)"
   ]
  },
  {
   "cell_type": "code",
   "execution_count": null,
   "metadata": {},
   "outputs": [],
   "source": [
    "linear_results = runNTimes(10, trainer.train_linear)"
   ]
  }
 ],
 "metadata": {
  "kernelspec": {
   "display_name": "conda_pytorch_p36",
   "language": "python",
   "name": "conda_pytorch_p36"
  },
  "language_info": {
   "codemirror_mode": {
    "name": "ipython",
    "version": 3
   },
   "file_extension": ".py",
   "mimetype": "text/x-python",
   "name": "python",
   "nbconvert_exporter": "python",
   "pygments_lexer": "ipython3",
   "version": "3.6.5"
  }
 },
 "nbformat": 4,
 "nbformat_minor": 4
}
