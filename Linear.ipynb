{
 "cells": [
  {
   "cell_type": "code",
   "execution_count": 1,
   "metadata": {},
   "outputs": [],
   "source": [
    "import torch\n",
    "import torch.nn as nn\n",
    "import torch.nn.functional as F\n",
    "import torch.optim as optim\n",
    "from torch.utils.data import DataLoader\n",
    "\n",
    "\n",
    "import torchvision\n",
    "from torchvision.datasets import ImageFolder\n",
    "from torchvision import transforms\n",
    "\n",
    "from tqdm import tqdm, trange\n",
    "import numpy as np\n",
    "import pandas as pd\n",
    "import matplotlib.pyplot as plt"
   ]
  },
  {
   "cell_type": "code",
   "execution_count": 2,
   "metadata": {},
   "outputs": [],
   "source": [
    "IMG_SIZE = 32\n",
    "n_classes = 10\n",
    "\n",
    "train_transforms = [transforms.Resize((IMG_SIZE, IMG_SIZE)), transforms.ToTensor()]\n",
    "train_dataset = ImageFolder('data/cifar10/train', transform = transforms.Compose(train_transforms))\n",
    "train_loader = DataLoader(train_dataset, batch_size = 128, shuffle = True, num_workers = 8)\n",
    "\n",
    "test_transforms = [transforms.Resize((IMG_SIZE, IMG_SIZE)), transforms.ToTensor()]\n",
    "test_dataset = ImageFolder('data/cifar10/test', transform = transforms.Compose(test_transforms))\n",
    "test_loader = DataLoader(test_dataset, batch_size = 128, shuffle = True, num_workers = 8)"
   ]
  },
  {
   "cell_type": "code",
   "execution_count": 3,
   "metadata": {},
   "outputs": [
    {
     "name": "stdout",
     "output_type": "stream",
     "text": [
      "Class: 2\n"
     ]
    },
    {
     "data": {
      "image/png": "[encoded data removed]",
      "text/plain": [
       "<Figure size 432x288 with 1 Axes>"
      ]
     },
     "metadata": {},
     "output_type": "display_data"
    }
   ],
   "source": [
    "def visualizeFirstFromBatch(imgs):\n",
    "    img = imgs[0].detach().cpu()\n",
    "    plt.imshow(img.permute(1,2,0))\n",
    "    plt.show()\n",
    "\n",
    "def visualizeOne(dataloader):\n",
    "    for x,y in dataloader:\n",
    "        print('Class:', y[0].item())\n",
    "        visualizeFirstFromBatch(x)\n",
    "        break\n",
    "\n",
    "visualizeOne(train_loader)"
   ]
  },
  {
   "cell_type": "code",
   "execution_count": 13,
   "metadata": {},
   "outputs": [],
   "source": [
    "def trainOneFlatEpoch(model, optimizer, criterion, train_loader, scheduler = None, epoch = 0):\n",
    "    losses = []\n",
    "    train_dl = tqdm(train_loader, desc = \"Epoch: 0, Loss: 0\")\n",
    "    for x,y in train_dl:\n",
    "        x,y = x.cuda(), y.cuda()\n",
    "        x = x.reshape(x.shape[0], -1)\n",
    "\n",
    "        predictions = model(x)\n",
    "        loss = criterion(predictions, y)\n",
    "\n",
    "        optimizer.zero_grad()\n",
    "        loss.backward()\n",
    "        optimizer.step()\n",
    "        if scheduler is not None: scheduler.step()\n",
    "\n",
    "        losses.append(loss.item())\n",
    "        train_dl.set_description(f'Epoch: {epoch}, Loss: {loss.item():.3f}')\n",
    "    return losses\n",
    "\n",
    "def evalFlatModel(model, criterion, test_loader, epoch = 0):\n",
    "    losses = []\n",
    "    accs = []    \n",
    "    with torch.no_grad():\n",
    "        for x,y in test_loader:\n",
    "            x,y = x.cuda(), y.cuda()\n",
    "            x = x.reshape(x.shape[0], -1)\n",
    "            \n",
    "            predictions = model(x)\n",
    "            loss = criterion(predictions, y)\n",
    "            rounded_predictions = torch.argmax(predictions, dim = 1)\n",
    "            acc = torch.sum(rounded_predictions == y).type(torch.float64) / len(rounded_predictions)\n",
    "            \n",
    "            losses.append(loss.item())\n",
    "            accs.append(acc.item())\n",
    "            \n",
    "    print(f'Epoch {epoch} | Validation Loss: {np.mean(losses)} | Validation Accuracy: {np.mean(accs)}')\n",
    "    \n",
    "    return np.mean(losses), np.mean(accs)"
   ]
  },
  {
   "cell_type": "code",
   "execution_count": 14,
   "metadata": {},
   "outputs": [
    {
     "name": "stderr",
     "output_type": "stream",
     "text": [
      "Epoch: 0, Loss: 1.991: 100%|██████████| 391/391 [00:04<00:00, 91.10it/s] \n",
      "Epoch: 0, Loss: 0:   0%|          | 0/391 [00:00<?, ?it/s]"
     ]
    },
    {
     "name": "stdout",
     "output_type": "stream",
     "text": [
      "\u001b[F Epoch 0 | Validation Loss: 1.8957896262784548 | Validation Accuracy: 0.3422666139240506\n"
     ]
    },
    {
     "name": "stderr",
     "output_type": "stream",
     "text": [
      "Epoch: 1, Loss: 1.807: 100%|██████████| 391/391 [00:04<00:00, 91.53it/s] \n",
      "Epoch: 0, Loss: 0:   0%|          | 0/391 [00:00<?, ?it/s]"
     ]
    },
    {
     "name": "stdout",
     "output_type": "stream",
     "text": [
      "\u001b[F Epoch 1 | Validation Loss: 1.8738395911228807 | Validation Accuracy: 0.33969541139240506\n"
     ]
    },
    {
     "name": "stderr",
     "output_type": "stream",
     "text": [
      "Epoch: 2, Loss: 1.648: 100%|██████████| 391/391 [00:04<00:00, 91.50it/s] \n"
     ]
    },
    {
     "name": "stdout",
     "output_type": "stream",
     "text": [
      "\u001b[F Epoch 2 | Validation Loss: 1.845646066001699 | Validation Accuracy: 0.3467167721518987\n"
     ]
    }
   ],
   "source": [
    "model = nn.Linear(IMG_SIZE ** 2 * 3, n_classes).cuda()\n",
    "optimizer = optim.Adam(model.parameters(), lr = 1e-4)\n",
    "criterion = nn.CrossEntropyLoss()\n",
    "scheduler = None\n",
    "\n",
    "\n",
    "EPOCHS = 5\n",
    "losses = []\n",
    "val_losses = []\n",
    "val_accs = []\n",
    "for epoch in range(EPOCHS):\n",
    "    losses = losses + trainOneFlatEpoch(model, optimizer, criterion, train_loader, epoch = epoch)\n",
    "    loss, acc = evalFlatModel(model, criterion, test_loader, epoch = epoch)\n",
    "    val_losses.append(loss)\n",
    "    val_accs.append(acc)"
   ]
  }
 ],
 "metadata": {
  "kernelspec": {
   "display_name": "conda_pytorch_p36",
   "language": "python",
   "name": "conda_pytorch_p36"
  },
  "language_info": {
   "codemirror_mode": {
    "name": "ipython",
    "version": 3
   },
   "file_extension": ".py",
   "mimetype": "text/x-python",
   "name": "python",
   "nbconvert_exporter": "python",
   "pygments_lexer": "ipython3",
   "version": "3.6.5"
  }
 },
 "nbformat": 4,
 "nbformat_minor": 4
}
